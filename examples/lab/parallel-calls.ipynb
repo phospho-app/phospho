{
  "cells": [
    {
      "cell_type": "markdown",
      "metadata": {},
      "source": [
        "# Run parallel calls to OpenAI on a dataset, with rate limit\n",
        "\n",
        "In this notebook, you'll learn how to run multiple parallel calls to OpenAI on a dataset with a rate limit. \n",
        "\n",
        "As an example, we'll take a bunch of Amazon reviews as a dataset. Our goal is to **extract keywords** from the reviews. The way we extract keywords is by making a call to OpenAI GPT-4 and asking to list the keywords. \n",
        "\n",
        "To do that, here is what we will do:\n",
        "\n",
        "1. Load the dataset\n",
        "2. Make API calls to OpenAI\n",
        "3. Parallelize the calls while respecting the OpenAI rate limits\n",
        "4. Displaying results\n",
        "\n",
        "Let's go!"
      ]
    },
    {
      "cell_type": "code",
      "execution_count": null,
      "metadata": {},
      "outputs": [],
      "source": [
        "!pip install \"phospho[lab]\""
      ]
    },
    {
      "cell_type": "code",
      "execution_count": 1,
      "metadata": {},
      "outputs": [],
      "source": [
        "import pandas as pd\n",
        "import re\n",
        "import os\n",
        "import openai \n",
        "\n",
        "from phospho import lab\n",
        "from dotenv import load_dotenv\n",
        "\n",
        "load_dotenv()\n",
        "\n",
        "assert os.environ.get(\"OPENAI_API_KEY\"), \"Please set the OPENAI_API_KEY environment variable.\""
      ]
    },
    {
      "cell_type": "markdown",
      "metadata": {},
      "source": [
        "## Load dataset\n",
        "\n",
        "For demonstration purposes, we'll use a subset of the [Amazon Reviews dataset, collected in 2023 by McAuley Lab](https://amazon-reviews-2023.github.io)."
      ]
    },
    {
      "cell_type": "code",
      "execution_count": 2,
      "metadata": {},
      "outputs": [],
      "source": [
        "messages_df = pd.read_csv('data/Magazine_Subscriptions_5.csv')\n",
        "# Create a new column to store the message id\n",
        "messages_df[\"id\"] = messages_df.index.astype(str)"
      ]
    },
    {
      "cell_type": "code",
      "execution_count": 3,
      "metadata": {},
      "outputs": [
        {
          "data": {
            "text/html": [
              "<div>\n",
              "<style scoped>\n",
              "    .dataframe tbody tr th:only-of-type {\n",
              "        vertical-align: middle;\n",
              "    }\n",
              "\n",
              "    .dataframe tbody tr th {\n",
              "        vertical-align: top;\n",
              "    }\n",
              "\n",
              "    .dataframe thead th {\n",
              "        text-align: right;\n",
              "    }\n",
              "</style>\n",
              "<table border=\"1\" class=\"dataframe\">\n",
              "  <thead>\n",
              "    <tr style=\"text-align: right;\">\n",
              "      <th></th>\n",
              "      <th>overall</th>\n",
              "      <th>verified</th>\n",
              "      <th>reviewTime</th>\n",
              "      <th>reviewerID</th>\n",
              "      <th>asin</th>\n",
              "      <th>reviewerName</th>\n",
              "      <th>reviewText</th>\n",
              "      <th>summary</th>\n",
              "      <th>unixReviewTime</th>\n",
              "      <th>vote</th>\n",
              "      <th>style</th>\n",
              "      <th>image</th>\n",
              "      <th>id</th>\n",
              "    </tr>\n",
              "  </thead>\n",
              "  <tbody>\n",
              "    <tr>\n",
              "      <th>0</th>\n",
              "      <td>4</td>\n",
              "      <td>True</td>\n",
              "      <td>02 26, 2014</td>\n",
              "      <td>A5QQOOZJOVPSF</td>\n",
              "      <td>B00005N7P0</td>\n",
              "      <td>John L. Mehlmauer</td>\n",
              "      <td>I'm old, and so is my computer.  Any advice th...</td>\n",
              "      <td>Cheapskates guide</td>\n",
              "      <td>1393372800</td>\n",
              "      <td>NaN</td>\n",
              "      <td>NaN</td>\n",
              "      <td>NaN</td>\n",
              "      <td>0</td>\n",
              "    </tr>\n",
              "  </tbody>\n",
              "</table>\n",
              "</div>"
            ],
            "text/plain": [
              "   overall  verified   reviewTime     reviewerID        asin  \\\n",
              "0        4      True  02 26, 2014  A5QQOOZJOVPSF  B00005N7P0   \n",
              "\n",
              "        reviewerName                                         reviewText  \\\n",
              "0  John L. Mehlmauer  I'm old, and so is my computer.  Any advice th...   \n",
              "\n",
              "             summary  unixReviewTime  vote style image id  \n",
              "0  Cheapskates guide      1393372800   NaN   NaN   NaN  0  "
            ]
          },
          "execution_count": 3,
          "metadata": {},
          "output_type": "execute_result"
        }
      ],
      "source": [
        "messages_df.head(1)"
      ]
    },
    {
      "cell_type": "markdown",
      "metadata": {},
      "source": [
        "The first thing we need to do is to transform this dataset in a list of phospho `lab.Message`, which is a data format more adapted for what we need to do. "
      ]
    },
    {
      "cell_type": "code",
      "execution_count": 24,
      "metadata": {},
      "outputs": [
        {
          "data": {
            "text/plain": [
              "[Message(id='0', created_at=1393372800, role=None, content=\"I'm old, and so is my computer.  Any advice that can help me maximize my computer perfomance is very welcome.  MaximumPC has some good tips on computer parts, vendors, and usefull tests\", previous_messages=[], metadata={})]"
            ]
          },
          "execution_count": 24,
          "metadata": {},
          "output_type": "execute_result"
        }
      ],
      "source": [
        "# Convert every valid row of the df into a lab.Message\n",
        "messages = lab.Message.from_df(messages_df, content=\"reviewText\", created_at=\"unixReviewTime\", id=\"id\")\n",
        "messages[:1]"
      ]
    },
    {
      "cell_type": "markdown",
      "metadata": {},
      "source": [
        "## Make API calls to OpenAI\n",
        "\n",
        "Let's create a function that takes a message content as an input, and then make a call to OpenAI to get a list of keywords. \n",
        "\n",
        "### Step by step\n",
        "\n",
        "First, we'll take a message. "
      ]
    },
    {
      "cell_type": "code",
      "execution_count": 25,
      "metadata": {},
      "outputs": [
        {
          "data": {
            "text/plain": [
              "Message(id='0', created_at=1393372800, role=None, content=\"I'm old, and so is my computer.  Any advice that can help me maximize my computer perfomance is very welcome.  MaximumPC has some good tips on computer parts, vendors, and usefull tests\", previous_messages=[], metadata={})"
            ]
          },
          "execution_count": 25,
          "metadata": {},
          "output_type": "execute_result"
        }
      ],
      "source": [
        "message = messages[0]\n",
        "message"
      ]
    },
    {
      "cell_type": "markdown",
      "metadata": {},
      "source": [
        "Then, we embed it into a prompt that we make to OpenAI."
      ]
    },
    {
      "cell_type": "code",
      "execution_count": 26,
      "metadata": {},
      "outputs": [
        {
          "data": {
            "text/plain": [
              "'- Old computer\\n- Computer performance\\n- Advice\\n- MaximumPC\\n- Computer parts\\n- Vendors\\n- Useful tests'"
            ]
          },
          "execution_count": 26,
          "metadata": {},
          "output_type": "execute_result"
        }
      ],
      "source": [
        "openai_client = openai.AsyncClient(api_key=os.environ[\"OPENAI_API_KEY\"])\n",
        "\n",
        "# Label every message with keywords it contains\n",
        "prompt = f\"\"\"You are an annotator reading Amazon product reviews. Your job is to label\n",
        "each review with keywords that describe the main topics covered in the review.\n",
        "The review is: \n",
        "{message.content}\n",
        "\n",
        "Return a list of max 10 keywords as a bullet point list: `- keyword1\\n- keyword2\\n- keyword3`\n",
        "Keywords:\"\"\"\n",
        "\n",
        "response = await openai_client.chat.completions.create(\n",
        "    model=\"gpt-3.5-turbo\",\n",
        "    messages=[\n",
        "        {\n",
        "            \"role\": \"system\",\n",
        "            \"content\": \"You are a business analyst, expert in e-commerce.\",\n",
        "        },\n",
        "        {\"role\": \"user\", \"content\": prompt},\n",
        "    ],\n",
        ")\n",
        "response.choices[0].message.content"
      ]
    },
    {
      "cell_type": "markdown",
      "metadata": {},
      "source": [
        "Finally, we use regex to read the response. "
      ]
    },
    {
      "cell_type": "code",
      "execution_count": 27,
      "metadata": {},
      "outputs": [
        {
          "data": {
            "text/plain": [
              "['Old computer',\n",
              " 'Computer performance',\n",
              " 'Advice',\n",
              " 'MaximumPC',\n",
              " 'Computer parts',\n",
              " 'Vendors',\n",
              " 'Useful tests']"
            ]
          },
          "execution_count": 27,
          "metadata": {},
          "output_type": "execute_result"
        }
      ],
      "source": [
        "response = response.choices[0].message.content\n",
        "# Parse the response to extract the keywords with regex\n",
        "keywords = re.findall(r\"- (.*)\", response)\n",
        "keywords"
      ]
    },
    {
      "cell_type": "markdown",
      "metadata": {},
      "source": [
        "### Turn this into a phospho job\n",
        "\n",
        "Okay, let's muscle up and turn this proof of concept into a function.\n",
        "\n",
        "However, let's respect the phospho job convention. To respect the convention, we need the function to take a lab.Message as an input, and return a lab.JobResult as an output.\n",
        "\n",
        "Respecting this format helps us parallelize the calls later on. \n",
        "\n",
        "Here's what the function looks like:"
      ]
    },
    {
      "cell_type": "code",
      "execution_count": 28,
      "metadata": {},
      "outputs": [],
      "source": [
        "async def get_keywords(\n",
        "    message: lab.Message,\n",
        "    model: str=\"openai:gpt-3.5-turbo\",\n",
        ") -> lab.JobResult:\n",
        "    \"\"\"\n",
        "    This function uses OpenAI GPT to extract keywords from a given message.\n",
        "    \"\"\"\n",
        "    provider, model_name = lab.get_provider_and_model(model)\n",
        "    openai_client = lab.get_async_client(provider)\n",
        "\n",
        "    # Label every message with keywords it contains\n",
        "    prompt = f\"\"\"You are an annotator reading Amazon product reviews. Your job is to label\n",
        "    each review with topics that describe important topics covered in the review, relevant\n",
        "    to the e-commerce domain. Do not include generic topics such as \"good\", \"bad\", \"interesting\", etc.\n",
        "    \n",
        "    The review is: \n",
        "    {message.content}\n",
        "\n",
        "    Return a list of max 10 keywords as a bullet point list: `- keyword1\\n- keyword2\\n- keyword3`\n",
        "    Keywords:\"\"\"\n",
        "\n",
        "    response = await openai_client.chat.completions.create(\n",
        "        model=\"gpt-3.5-turbo\",\n",
        "        messages=[\n",
        "            {\n",
        "                \"role\": \"system\",\n",
        "                \"content\": \"You are a business analyst, expert in e-commerce.\",\n",
        "            },\n",
        "            {\"role\": \"user\", \"content\": prompt},\n",
        "        ],\n",
        "    )\n",
        "\n",
        "    response = response.choices[0].message.content\n",
        "    # Parse the response to extract the keywords with regex\n",
        "    keywords = re.findall(r\"- (.*)\", response)\n",
        "    # Let's trim and lowercase the keywords\n",
        "    keywords = [keyword.strip().lower() for keyword in keywords]\n",
        "    return lab.JobResult(\n",
        "        value=keywords,\n",
        "        result_type=lab.ResultType.list,\n",
        "    )"
      ]
    },
    {
      "cell_type": "markdown",
      "metadata": {},
      "source": [
        "Easy, right ? Let's try the function on a single keyword:"
      ]
    },
    {
      "cell_type": "code",
      "execution_count": 29,
      "metadata": {},
      "outputs": [
        {
          "data": {
            "text/plain": [
              "JobResult(value=['computer performance', 'tips', 'computer parts', 'vendors', 'tests', 'maximumpc', 'advice', 'maximize', 'old computer', 'performance tweaks'], result_type=<ResultType.list: 'list'>, logs=[], metadata={}, created_at=1710887291, job_id=None)"
            ]
          },
          "execution_count": 29,
          "metadata": {},
          "output_type": "execute_result"
        }
      ],
      "source": [
        "# Try the function one a single message\n",
        "await get_keywords(messages[0])"
      ]
    },
    {
      "cell_type": "markdown",
      "metadata": {},
      "source": [
        "## Run the job on multiple messages\n",
        "\n",
        "Now, let's run the jobs on the dataset. \n",
        "\n",
        "### Without phospho\n",
        "\n",
        "With a simple for loop, you have to wait for a full API call to complete before running the next one. This takes a long time.  \n",
        "\n",
        "With **parallelism**, you can make multiple calls at the same time, but debugging becomes much harder.\n",
        "\n",
        "Moreover, OpenAI and model providers have set up **rate limits.** If you parallelize without care, you will reach rate limits of OpenAI, and your requests will fail.\n",
        "\n",
        "### With phospho\n",
        "\n",
        "phospho introduces the abstraction of a Workload. A workload is a set of jobs to run. "
      ]
    },
    {
      "cell_type": "code",
      "execution_count": 30,
      "metadata": {},
      "outputs": [
        {
          "name": "stderr",
          "output_type": "stream",
          "text": [
            "No job_config provided. Running with empty config\n"
          ]
        }
      ],
      "source": [
        "workload = lab.Workload(jobs=[lab.Job(job_function=get_keywords)])"
      ]
    },
    {
      "cell_type": "markdown",
      "metadata": {},
      "source": [
        "A workload offers quick configuration for the problem presented before:\n",
        "- `executor_mode`: switch between `sequential` to debug and `parallel` to parallelize API cals\n",
        "- `max_parallelism`: slow down purposefuly the number of requests per second to avoid being rate limited.\n",
        "\n",
        "Here is how to run a workload."
      ]
    },
    {
      "cell_type": "code",
      "execution_count": 31,
      "metadata": {},
      "outputs": [
        {
          "name": "stderr",
          "output_type": "stream",
          "text": [
            "100%|██████████| 100/100 [00:10<00:00,  9.25it/s]\n"
          ]
        },
        {
          "data": {
            "text/plain": [
              "{'get_keywords': JobResult(value=['computer performance', 'tips', 'computer parts', 'vendors', 'tests', 'optimization', 'maximumpc', 'advice', 'maximize', 'old computer'], result_type=<ResultType.list: 'list'>, logs=[], metadata={}, created_at=1710887295, job_id='get_keywords')}"
            ]
          },
          "execution_count": 31,
          "metadata": {},
          "output_type": "execute_result"
        }
      ],
      "source": [
        "# Run the workload on the messages\n",
        "results = await workload.async_run(\n",
        "    messages[:100], # Replace by messages to run on the whole dataset\n",
        "    executor_type=\"parallel\", # Run the job on every messages in parallel\n",
        "    max_parallelism=10, # Start at most 10 jobs per second to avoid rate limiting\n",
        ")\n",
        "results.get(\"0\") # Get the result for the first message"
      ]
    },
    {
      "cell_type": "markdown",
      "metadata": {},
      "source": [
        "Results are stored in the workload, in a dictionary: `message_id -> job_id -> JobResult`"
      ]
    },
    {
      "cell_type": "code",
      "execution_count": 32,
      "metadata": {},
      "outputs": [
        {
          "data": {
            "text/plain": [
              "{'get_keywords': JobResult(value=['computer performance', 'tips', 'computer parts', 'vendors', 'tests', 'optimization', 'maximumpc', 'advice', 'maximize', 'old computer'], result_type=<ResultType.list: 'list'>, logs=[], metadata={}, created_at=1710887295, job_id='get_keywords')}"
            ]
          },
          "execution_count": 32,
          "metadata": {},
          "output_type": "execute_result"
        }
      ],
      "source": [
        "workload.results[\"0\"]"
      ]
    },
    {
      "cell_type": "markdown",
      "metadata": {},
      "source": [
        "## Display results\n",
        "\n",
        "Now that we ran the keyword detection on our dataset, let's get the results in a format more adapted for analytics."
      ]
    },
    {
      "cell_type": "code",
      "execution_count": 33,
      "metadata": {},
      "outputs": [
        {
          "data": {
            "text/html": [
              "<div>\n",
              "<style scoped>\n",
              "    .dataframe tbody tr th:only-of-type {\n",
              "        vertical-align: middle;\n",
              "    }\n",
              "\n",
              "    .dataframe tbody tr th {\n",
              "        vertical-align: top;\n",
              "    }\n",
              "\n",
              "    .dataframe thead th {\n",
              "        text-align: right;\n",
              "    }\n",
              "</style>\n",
              "<table border=\"1\" class=\"dataframe\">\n",
              "  <thead>\n",
              "    <tr style=\"text-align: right;\">\n",
              "      <th></th>\n",
              "      <th>get_keywords</th>\n",
              "    </tr>\n",
              "  </thead>\n",
              "  <tbody>\n",
              "    <tr>\n",
              "      <th>0</th>\n",
              "      <td>[computer performance, tips, computer parts, v...</td>\n",
              "    </tr>\n",
              "    <tr>\n",
              "      <th>1</th>\n",
              "      <td>[men's magazine, articles, stories, know &amp; tel...</td>\n",
              "    </tr>\n",
              "    <tr>\n",
              "      <th>10</th>\n",
              "      <td>[glamour magazine, articles, clothes, fashion,...</td>\n",
              "    </tr>\n",
              "  </tbody>\n",
              "</table>\n",
              "</div>"
            ],
            "text/plain": [
              "                                         get_keywords\n",
              "0   [computer performance, tips, computer parts, v...\n",
              "1   [men's magazine, articles, stories, know & tel...\n",
              "10  [glamour magazine, articles, clothes, fashion,..."
            ]
          },
          "execution_count": 33,
          "metadata": {},
          "output_type": "execute_result"
        }
      ],
      "source": [
        "# In this df, the index is the message_id, and the column is the job_id\n",
        "results_df = workload.results_df()\n",
        "results_df.head(3)"
      ]
    },
    {
      "cell_type": "markdown",
      "metadata": {},
      "source": [
        "And join back the outputs with the original dataframe. "
      ]
    },
    {
      "cell_type": "code",
      "execution_count": 34,
      "metadata": {},
      "outputs": [
        {
          "data": {
            "text/html": [
              "<div>\n",
              "<style scoped>\n",
              "    .dataframe tbody tr th:only-of-type {\n",
              "        vertical-align: middle;\n",
              "    }\n",
              "\n",
              "    .dataframe tbody tr th {\n",
              "        vertical-align: top;\n",
              "    }\n",
              "\n",
              "    .dataframe thead th {\n",
              "        text-align: right;\n",
              "    }\n",
              "</style>\n",
              "<table border=\"1\" class=\"dataframe\">\n",
              "  <thead>\n",
              "    <tr style=\"text-align: right;\">\n",
              "      <th></th>\n",
              "      <th>get_keywords</th>\n",
              "      <th>overall</th>\n",
              "      <th>verified</th>\n",
              "      <th>reviewTime</th>\n",
              "      <th>reviewerID</th>\n",
              "      <th>asin</th>\n",
              "      <th>reviewerName</th>\n",
              "      <th>reviewText</th>\n",
              "      <th>summary</th>\n",
              "      <th>unixReviewTime</th>\n",
              "      <th>vote</th>\n",
              "      <th>style</th>\n",
              "      <th>image</th>\n",
              "      <th>id</th>\n",
              "    </tr>\n",
              "  </thead>\n",
              "  <tbody>\n",
              "    <tr>\n",
              "      <th>0</th>\n",
              "      <td>[computer performance, tips, computer parts, v...</td>\n",
              "      <td>4</td>\n",
              "      <td>True</td>\n",
              "      <td>02 26, 2014</td>\n",
              "      <td>A5QQOOZJOVPSF</td>\n",
              "      <td>B00005N7P0</td>\n",
              "      <td>John L. Mehlmauer</td>\n",
              "      <td>I'm old, and so is my computer.  Any advice th...</td>\n",
              "      <td>Cheapskates guide</td>\n",
              "      <td>1393372800</td>\n",
              "      <td>NaN</td>\n",
              "      <td>NaN</td>\n",
              "      <td>NaN</td>\n",
              "      <td>0</td>\n",
              "    </tr>\n",
              "    <tr>\n",
              "      <th>1</th>\n",
              "      <td>[men's magazine, articles, stories, know &amp; tel...</td>\n",
              "      <td>5</td>\n",
              "      <td>False</td>\n",
              "      <td>03 6, 2004</td>\n",
              "      <td>A5RHZE7B8SV5Q</td>\n",
              "      <td>B00005N7PS</td>\n",
              "      <td>gorillazfan249</td>\n",
              "      <td>There's nothing to say, but if you want a REAL...</td>\n",
              "      <td>The best mature Men's magazine.</td>\n",
              "      <td>1078531200</td>\n",
              "      <td>3.0</td>\n",
              "      <td>NaN</td>\n",
              "      <td>NaN</td>\n",
              "      <td>1</td>\n",
              "    </tr>\n",
              "    <tr>\n",
              "      <th>10</th>\n",
              "      <td>[glamour magazine, articles, clothes, fashion,...</td>\n",
              "      <td>5</td>\n",
              "      <td>True</td>\n",
              "      <td>06 12, 2017</td>\n",
              "      <td>A2VRQ8RNTKY1XT</td>\n",
              "      <td>B00005N7QC</td>\n",
              "      <td>Barbara M. Fox</td>\n",
              "      <td>I love glamour mag. I have read it for over 25...</td>\n",
              "      <td>Great magazine</td>\n",
              "      <td>1497225600</td>\n",
              "      <td>NaN</td>\n",
              "      <td>{'Format:': ' Kindle Edition'}</td>\n",
              "      <td>NaN</td>\n",
              "      <td>10</td>\n",
              "    </tr>\n",
              "  </tbody>\n",
              "</table>\n",
              "</div>"
            ],
            "text/plain": [
              "                                         get_keywords  overall  verified  \\\n",
              "0   [computer performance, tips, computer parts, v...        4      True   \n",
              "1   [men's magazine, articles, stories, know & tel...        5     False   \n",
              "10  [glamour magazine, articles, clothes, fashion,...        5      True   \n",
              "\n",
              "     reviewTime      reviewerID        asin       reviewerName  \\\n",
              "0   02 26, 2014   A5QQOOZJOVPSF  B00005N7P0  John L. Mehlmauer   \n",
              "1    03 6, 2004   A5RHZE7B8SV5Q  B00005N7PS     gorillazfan249   \n",
              "10  06 12, 2017  A2VRQ8RNTKY1XT  B00005N7QC     Barbara M. Fox   \n",
              "\n",
              "                                           reviewText  \\\n",
              "0   I'm old, and so is my computer.  Any advice th...   \n",
              "1   There's nothing to say, but if you want a REAL...   \n",
              "10  I love glamour mag. I have read it for over 25...   \n",
              "\n",
              "                            summary  unixReviewTime  vote  \\\n",
              "0                 Cheapskates guide      1393372800   NaN   \n",
              "1   The best mature Men's magazine.      1078531200   3.0   \n",
              "10                   Great magazine      1497225600   NaN   \n",
              "\n",
              "                             style image  id  \n",
              "0                              NaN   NaN   0  \n",
              "1                              NaN   NaN   1  \n",
              "10  {'Format:': ' Kindle Edition'}   NaN  10  "
            ]
          },
          "execution_count": 34,
          "metadata": {},
          "output_type": "execute_result"
        }
      ],
      "source": [
        "augmented_messages_df = results_df.merge(messages_df, left_index=True, right_on=\"id\")\n",
        "augmented_messages_df.head(3)"
      ]
    },
    {
      "cell_type": "code",
      "execution_count": 35,
      "metadata": {},
      "outputs": [
        {
          "name": "stdout",
          "output_type": "stream",
          "text": [
            "Number of different keywords extracted: 398\n"
          ]
        }
      ],
      "source": [
        "print(\"Number of different keywords extracted:\", augmented_messages_df[\"get_keywords\"].explode().nunique())"
      ]
    },
    {
      "cell_type": "markdown",
      "metadata": {},
      "source": [
        "We can now have tons of fun with the extracted keywords and do all kind of data analytics. "
      ]
    },
    {
      "cell_type": "code",
      "execution_count": 36,
      "metadata": {},
      "outputs": [
        {
          "data": {
            "text/plain": [
              "<Axes: title={'center': 'Most common keywords in the dataset'}, xlabel='get_keywords'>"
            ]
          },
          "execution_count": 36,
          "metadata": {},
          "output_type": "execute_result"
        },
        {
          "data": {
            "image/png": "[encoded data removed]",
            "text/plain": [
              "<Figure size 1000x500 with 1 Axes>"
            ]
          },
          "metadata": {},
          "output_type": "display_data"
        }
      ],
      "source": [
        "# Eg: Count the number of messages that contain a specific keyword\n",
        "\n",
        "keywords_to_count = augmented_messages_df.explode(\"get_keywords\").groupby(\"get_keywords\").size().sort_values(ascending=False)\n",
        "\n",
        "keywords_to_count.head(20).plot(kind=\"bar\", figsize=(10, 5), title=\"Most common keywords in the dataset\")"
      ]
    },
    {
      "cell_type": "markdown",
      "metadata": {},
      "source": [
        "## Bonus: Use the previous results of the job\n",
        "\n",
        "This PoC was cool, but all the Job execution are independent. \n",
        "\n",
        "Let's say that you want to **use the previous results of the job** as context for the current message. For example, to anchor the LLM with the current keywords found.\n",
        "\n",
        "There are multiple ways to do it. \n",
        "\n",
        "### With phospho\n",
        "\n",
        "With phospho, one cool way is to set a `job` argument to the job function. At runtime, `job` is then a reference to the current lab.Job and contains all results so far."
      ]
    },
    {
      "cell_type": "code",
      "execution_count": 37,
      "metadata": {},
      "outputs": [],
      "source": [
        "async def get_keywords_previous_results(\n",
        "    message: lab.Message,\n",
        "    job: lab.Job = None, # Add the job as an argument\n",
        "    model: str=\"openai:gpt-3.5-turbo\",\n",
        ") -> lab.JobResult:\n",
        "    \"\"\"\n",
        "    This function uses OpenAI GPT to extract keywords from a given message.\n",
        "\n",
        "    It also uses the previous results of the job to provide context to the LLM.\n",
        "    The job argument is used to access the previous results.\n",
        "    \"\"\"\n",
        "    provider, model_name = lab.get_provider_and_model(model)\n",
        "    openai_client = lab.get_async_client(provider)\n",
        "\n",
        "    # Using the reference to the job, we can access the results of the other jobs\n",
        "    # to use them as context for the current job\n",
        "    previous_keywords = []\n",
        "    if job:\n",
        "        # Get the previous results\n",
        "        previous_job_results = job.results.values()\n",
        "        # Let's flatten the list of lists of keywords\n",
        "        previous_keywords = [keyword for result in previous_job_results for keyword in result.value]\n",
        "\n",
        "    prompt = \"You are an annotator reading Amazon product reviews. Your job is to label \\\n",
        "    each review with topics that describe important topics covered in the review, relevant \\\n",
        "    to the e-commerce domain. Do not include generic topics such as 'good', 'bad', 'interesting', etc.\"\n",
        "    \n",
        "    # If there are previous results, we add them to the prompt\n",
        "    if len(previous_keywords) > 0:\n",
        "        prompt += f\"\"\"\n",
        "        So far, you've reviewed {len(previous_job_results)} reviews, and the keywords you've found are:\n",
        "        {\", \".join(previous_keywords)}\n",
        "\n",
        "        If possible, reuse the existing topics to label the current review. Do not add \n",
        "        variations of the same topics.\"\"\"\n",
        "\n",
        "    prompt = f\"\"\"The review is: \n",
        "    {message.content}\n",
        "\n",
        "    Return a list of max 10 keywords as a bullet point list: `- keyword1\\n- keyword2\\n- keyword3`\n",
        "    Keywords:\"\"\"\n",
        "\n",
        "    response = await openai_client.chat.completions.create(\n",
        "        model=\"gpt-3.5-turbo\",\n",
        "        messages=[\n",
        "            {\n",
        "                \"role\": \"system\",\n",
        "                \"content\": \"You are a business analyst, expert in e-commerce.\",\n",
        "            },\n",
        "            {\"role\": \"user\", \"content\": prompt},\n",
        "        ],\n",
        "    )\n",
        "\n",
        "    response = response.choices[0].message.content\n",
        "    keywords = re.findall(r\"- (.*)\", response)\n",
        "    keywords = [keyword.strip().lower() for keyword in keywords]\n",
        "    return lab.JobResult(\n",
        "        value=keywords,\n",
        "        result_type=lab.ResultType.list,\n",
        "    )"
      ]
    },
    {
      "cell_type": "markdown",
      "metadata": {},
      "source": [
        "Let's run this job. \n",
        "\n",
        "Note that we are still running the jobs in parallel! This means that the existing results won't always be available at the start. "
      ]
    },
    {
      "cell_type": "code",
      "execution_count": 38,
      "metadata": {},
      "outputs": [
        {
          "name": "stderr",
          "output_type": "stream",
          "text": [
            "No job_config provided. Running with empty config\n",
            "100%|██████████| 100/100 [00:10<00:00,  9.52it/s]\n"
          ]
        },
        {
          "name": "stdout",
          "output_type": "stream",
          "text": [
            "Number of different keywords extracted: 552\n"
          ]
        },
        {
          "data": {
            "image/png": "[encoded data removed]",
            "text/plain": [
              "<Figure size 1000x500 with 1 Axes>"
            ]
          },
          "metadata": {},
          "output_type": "display_data"
        }
      ],
      "source": [
        "# Create workload\n",
        "workload = lab.Workload(jobs=[lab.Job(job_function=get_keywords_previous_results)])\n",
        "\n",
        "# Run\n",
        "await workload.async_run(\n",
        "    messages[:100], \n",
        "    executor_type=\"parallel\",\n",
        "    max_parallelism=10, \n",
        ")\n",
        "\n",
        "# Display results\n",
        "results_df = workload.results_df()\n",
        "augmented_messages_df = results_df.merge(messages_df, left_index=True, right_on=\"id\")\n",
        "\n",
        "keywords_to_count = (\n",
        "    augmented_messages_df.explode(\"get_keywords_previous_results\")\n",
        "    .groupby(\"get_keywords_previous_results\")\n",
        "    .size()\n",
        "    .sort_values(ascending=False)\n",
        ")\n",
        "keywords_to_count.head(20).plot(\n",
        "    kind=\"bar\", figsize=(10, 5), title=\"Most common keywords in the dataset\"\n",
        ")\n",
        "\n",
        "print(\"Number of different keywords extracted:\", augmented_messages_df[\"get_keywords_previous_results\"].explode().nunique())"
      ]
    },
    {
      "cell_type": "markdown",
      "metadata": {},
      "source": [
        "### Reuse the results from another job\n",
        "\n",
        "Likewise, you can set a `workload` argument. This lets you also use results on other jobs to augment the result of the current one.\n",
        "\n",
        "Let's use this to **run the topic extraction on GPT-4 first on a subsample,** and then use GPT-3.5."
      ]
    },
    {
      "cell_type": "code",
      "execution_count": 39,
      "metadata": {},
      "outputs": [],
      "source": [
        "async def get_keywords_previous_jobs(\n",
        "    message: lab.Message,\n",
        "    workload: lab.Workload = None, # Add the job as an argument\n",
        "    model: str=\"openai:gpt-3.5-turbo\",\n",
        ") -> lab.JobResult:\n",
        "    \"\"\"\n",
        "    This function uses OpenAI GPT to extract keywords from a given message.\n",
        "\n",
        "    It uses the results of the previous jobs to provide context to the current job.\n",
        "    The workload argument is used to access the results of the previous jobs.\n",
        "    The previous jobs are expected to be named `get_keywords`.\n",
        "\n",
        "    If the message.id was already processed, the previous result is returned.\n",
        "    \"\"\"\n",
        "    provider, model_name = lab.get_provider_and_model(model)\n",
        "    openai_client = lab.get_async_client(provider)\n",
        "\n",
        "    # Using the reference to the job, we can access the results of the other jobs\n",
        "    # to use them as context for the current job\n",
        "    previous_keywords = []\n",
        "    if workload:\n",
        "        # Get the previous results of the job `get_keywords` \n",
        "        previous_job_results = workload.jobs[\"get_keywords\"].results.values()\n",
        "\n",
        "        # If this message.id was already processed, we return the previous result\n",
        "        if message.id in previous_job_results:\n",
        "            return previous_job_results[message.id]\n",
        "\n",
        "        # Otherwise, let's flatten the list of lists of keywords\n",
        "        previous_keywords = [keyword for result in previous_job_results for keyword in result.value]\n",
        "\n",
        "    prompt = \"You are an annotator reading Amazon product reviews. Your job is to label \\\n",
        "    each review with topics that describe important topics covered in the review, relevant \\\n",
        "    to the e-commerce domain. Do not include generic topics such as 'good', 'bad', 'interesting', etc.\"\n",
        "    \n",
        "    # If there are previous results, we add them to the prompt\n",
        "    if len(previous_keywords) > 0:\n",
        "        prompt += f\"\"\"\n",
        "        So far, you've reviewed {len(previous_job_results)} reviews, and the keywords you've found are:\n",
        "        {\", \".join(previous_keywords)}\n",
        "\n",
        "        If possible, reuse the existing topics to label the current review. Do not add \n",
        "        variations of the same topics.\"\"\"\n",
        "\n",
        "    prompt = f\"\"\"The review is: \n",
        "    {message.content}\n",
        "\n",
        "    Return a list of max 10 keywords as a bullet point list: `- keyword1\\n- keyword2\\n- keyword3`\n",
        "    Keywords:\"\"\"\n",
        "\n",
        "    response = await openai_client.chat.completions.create(\n",
        "        model=\"gpt-3.5-turbo\",\n",
        "        messages=[\n",
        "            {\n",
        "                \"role\": \"system\",\n",
        "                \"content\": \"You are a business analyst, expert in e-commerce.\",\n",
        "            },\n",
        "            {\"role\": \"user\", \"content\": prompt},\n",
        "        ],\n",
        "    )\n",
        "\n",
        "    response = response.choices[0].message.content\n",
        "    # Parse the response to extract the keywords with regex\n",
        "    keywords = re.findall(r\"- (.*)\", response)\n",
        "    keywords = [keyword.strip().lower() for keyword in keywords]\n",
        "    return lab.JobResult(\n",
        "        value=keywords,\n",
        "        result_type=lab.ResultType.list,\n",
        "    )"
      ]
    },
    {
      "cell_type": "markdown",
      "metadata": {},
      "source": [
        "Let's use this to run 10 expensive calls to GPT-4, and then use those keywords as grounding when calling GPT-3.5."
      ]
    },
    {
      "cell_type": "code",
      "execution_count": 40,
      "metadata": {},
      "outputs": [
        {
          "name": "stderr",
          "output_type": "stream",
          "text": [
            "No job_config provided. Running with empty config\n",
            "100%|██████████| 100/100 [00:01<00:00, 74.78it/s]\n",
            "100%|██████████| 100/100 [00:09<00:00, 10.41it/s]\n"
          ]
        },
        {
          "data": {
            "text/plain": [
              "{'get_keywords': None,\n",
              " 'get_keywords_previous_jobs': JobResult(value=['computer performance', 'aging computer', 'tips for optimizing performance', 'maximumpc', 'computer parts', 'vendors', 'useful tests', 'computer maintenance', 'performance optimization', 'aging technology'], result_type=<ResultType.list: 'list'>, logs=[], metadata={}, created_at=1710887336, job_id='get_keywords_previous_jobs')}"
            ]
          },
          "execution_count": 40,
          "metadata": {},
          "output_type": "execute_result"
        }
      ],
      "source": [
        "# First, we run on GPT-4\n",
        "# We create a new job config to specify the model\n",
        "\n",
        "\n",
        "class GPT4Config(lab.JobConfig):\n",
        "    model: str = \"openai:gpt-4\"\n",
        "\n",
        "\n",
        "workload = lab.Workload(\n",
        "    jobs=[\n",
        "        # The jobs are executed sequentially, in the order they are defined\n",
        "        lab.Job(\n",
        "            job_function=get_keywords,\n",
        "            config=GPT4Config(), # We specify the model\n",
        "            sample=0.1, # We only run on 10% of the data\n",
        "        ),\n",
        "        lab.Job(job_function=get_keywords_previous_jobs),\n",
        "    ]\n",
        ")\n",
        "results = await workload.async_run(\n",
        "    messages[:100],\n",
        "    executor_type=\"parallel\",\n",
        "    max_parallelism=10,\n",
        ")\n",
        "results.get(\"0\")"
      ]
    },
    {
      "cell_type": "code",
      "execution_count": 41,
      "metadata": {},
      "outputs": [
        {
          "name": "stdout",
          "output_type": "stream",
          "text": [
            "Number of different keywords extracted: 586\n"
          ]
        },
        {
          "data": {
            "image/png": "[encoded data removed]",
            "text/plain": [
              "<Figure size 1000x500 with 1 Axes>"
            ]
          },
          "metadata": {},
          "output_type": "display_data"
        }
      ],
      "source": [
        "# Display results\n",
        "results_df = workload.results_df()\n",
        "augmented_messages_df = results_df.merge(messages_df, left_index=True, right_on=\"id\")\n",
        "\n",
        "keywords_to_count = (\n",
        "    augmented_messages_df.explode(\"get_keywords_previous_jobs\")\n",
        "    .groupby(\"get_keywords_previous_jobs\")\n",
        "    .size()\n",
        "    .sort_values(ascending=False)\n",
        ")\n",
        "keywords_to_count.head(20).plot(\n",
        "    kind=\"bar\", figsize=(10, 5), title=\"Most common keywords in the dataset\"\n",
        ")\n",
        "\n",
        "print(\"Number of different keywords extracted:\", augmented_messages_df[\"get_keywords_previous_jobs\"].explode().nunique())"
      ]
    },
    {
      "cell_type": "markdown",
      "metadata": {},
      "source": [
        "## Conclusion\n",
        "\n",
        "In this notebook, we showed how to use phospho lab to\n",
        "\n",
        "1. Load a dataset \n",
        "2. Parallelize calls to LLM providers (OpenAI)\n",
        "3. Respect API providers rate limits\n",
        "4. Use the results of the current job or of previous jobs\n",
        "5. Use config and sampling to switch from expensive to cheap model\n",
        "\n",
        "Discover more about phospho in the [documentation!](https://phospho-app.github.io/docs/)"
      ]
    },
    {
      "cell_type": "markdown",
      "metadata": {},
      "source": []
    }
  ],
  "metadata": {
    "kernelspec": {
      "display_name": "phospho-env-min",
      "language": "python",
      "name": "python3"
    },
    "language_info": {
      "codemirror_mode": {
        "name": "ipython",
        "version": 3
      },
      "file_extension": ".py",
      "mimetype": "text/x-python",
      "name": "python",
      "nbconvert_exporter": "python",
      "pygments_lexer": "ipython3",
      "version": "3.11.7"
    }
  },
  "nbformat": 4,
  "nbformat_minor": 2
}
