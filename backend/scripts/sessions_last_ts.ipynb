{
 "cells": [
  {
   "cell_type": "markdown",
   "metadata": {},
   "source": [
    "# Compute sessions last ts\n",
    "\n",
    "In .env\n",
    "\n",
    "```\n",
    "EXTRACTOR_SECRET_KEY=\n",
    "EXTRACTOR_URL=\n",
    "MONGODB_URL=\n",
    "```\n",
    "\n",
    "Later on, in ORGS_TO_PROCESS, put an org id in it. "
   ]
  },
  {
   "cell_type": "code",
   "execution_count": 1,
   "metadata": {},
   "outputs": [
    {
     "data": {
      "text/plain": [
       "True"
      ]
     },
     "execution_count": 1,
     "metadata": {},
     "output_type": "execute_result"
    }
   ],
   "source": [
    "# Set current working dir\n",
    "import os\n",
    "from dotenv import load_dotenv\n",
    "\n",
    "# Path with .env\n",
    "os.chdir(\"/Users/nicolasoulianov/phospho/phospho/backend/scripts\")\n",
    "\n",
    "load_dotenv()"
   ]
  },
  {
   "cell_type": "code",
   "execution_count": 2,
   "metadata": {},
   "outputs": [],
   "source": [
    "import pymongo\n",
    "\n",
    "# Initialize pymongo client\n",
    "client = pymongo.MongoClient(os.getenv('MONGODB_URL'))\n",
    "db = client[os.getenv('MONGODB_NAME')]"
   ]
  },
  {
   "cell_type": "code",
   "execution_count": 3,
   "metadata": {},
   "outputs": [
    {
     "data": {
      "text/plain": [
       "'production'"
      ]
     },
     "execution_count": 3,
     "metadata": {},
     "output_type": "execute_result"
    }
   ],
   "source": [
    "db.name"
   ]
  },
  {
   "cell_type": "code",
   "execution_count": 4,
   "metadata": {},
   "outputs": [
    {
     "data": {
      "text/plain": [
       "'last_message_ts_-1'"
      ]
     },
     "execution_count": 4,
     "metadata": {},
     "output_type": "execute_result"
    }
   ],
   "source": [
    "db[\"sessions\"].create_index(\n",
    "                [(\"last_message_ts\", pymongo.DESCENDING)]\n",
    "            )"
   ]
  },
  {
   "cell_type": "code",
   "execution_count": 5,
   "metadata": {},
   "outputs": [],
   "source": [
    "results = db[\"tasks\"].aggregate(\n",
    "    [\n",
    "        {\n",
    "            \"$match\": {\n",
    "                \"$and\": [\n",
    "                    {\"session_id\": {\"$exists\": True}},\n",
    "                    {\"session_id\": {\"$ne\": None}},\n",
    "                ]\n",
    "            }\n",
    "        },\n",
    "        # Group by session_id and get the max created_at of the tasks\n",
    "        {\"$group\": {\"_id\": \"$session_id\", \"last_message_ts\": {\"$max\": \"$created_at\"}}},\n",
    "        # Project\n",
    "        {\n",
    "            \"$project\": {\n",
    "                \"_id\": 0,\n",
    "                \"id\": \"$_id\",\n",
    "                \"last_message_ts\": 1,\n",
    "            }\n",
    "        },\n",
    "        # Merge into the sessions (update the last_message_ts)\n",
    "        {\n",
    "            \"$merge\": {\n",
    "                \"into\": \"sessions\",\n",
    "                \"on\": \"id\",\n",
    "                # When matched, update the filed\n",
    "                \"whenMatched\": \"merge\",\n",
    "                \"whenNotMatched\": \"discard\",\n",
    "            }\n",
    "        },\n",
    "    ]\n",
    ")"
   ]
  },
  {
   "cell_type": "code",
   "execution_count": null,
   "metadata": {},
   "outputs": [],
   "source": []
  }
 ],
 "metadata": {
  "kernelspec": {
   "display_name": "phospho-env-min",
   "language": "python",
   "name": "python3"
  },
  "language_info": {
   "codemirror_mode": {
    "name": "ipython",
    "version": 3
   },
   "file_extension": ".py",
   "mimetype": "text/x-python",
   "name": "python",
   "nbconvert_exporter": "python",
   "pygments_lexer": "ipython3",
   "version": "3.11.7"
  }
 },
 "nbformat": 4,
 "nbformat_minor": 2
}
