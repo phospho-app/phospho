{
 "cells": [
  {
   "cell_type": "markdown",
   "metadata": {},
   "source": [
    "# Create temp tables\n",
    "\n",
    "Use this script in a notebook to create temp collections for a projet :\n",
    "- events\n",
    "- sessions\n",
    "- flattened_tasks\n",
    "\n",
    "This is helpful to use with the postgresql export. "
   ]
  },
  {
   "cell_type": "code",
   "execution_count": null,
   "metadata": {},
   "outputs": [
    {
     "name": "stderr",
     "output_type": "stream",
     "text": [
      "\u001b[32m2024-11-21 17:59:37.558\u001b[0m | \u001b[1mINFO    \u001b[0m | \u001b[36mapp.db.mongo\u001b[0m:\u001b[36mconnect_and_init_db\u001b[0m:\u001b[36m34\u001b[0m - \u001b[1mConnected to mongodb (MONGODB_NAME=production)\u001b[0m\n"
     ]
    }
   ],
   "source": [
    "from app.db.mongo import connect_and_init_db, get_mongo_db\n",
    "from loguru import logger\n",
    "\n",
    "await connect_and_init_db()\n",
    "\n",
    "mongo_db = await get_mongo_db()\n",
    "\n",
    "# Change the project id here\n",
    "project_id = ...\n"
   ]
  },
  {
   "cell_type": "code",
   "execution_count": null,
   "metadata": {},
   "outputs": [],
   "source": [
    "# Delete the collections if they exist\n",
    "logger.info(\"Deleting collections\")\n",
    "await mongo_db[f\"events_{project_id}\"].drop()\n",
    "await mongo_db[f\"sessions_{project_id}\"].drop()\n",
    "await mongo_db[f\"flattened_tasks_{project_id}\"].drop()"
   ]
  },
  {
   "cell_type": "code",
   "execution_count": 6,
   "metadata": {},
   "outputs": [
    {
     "name": "stderr",
     "output_type": "stream",
     "text": [
      "\u001b[32m2024-11-21 17:56:31.166\u001b[0m | \u001b[1mINFO    \u001b[0m | \u001b[36m__main__\u001b[0m:\u001b[36m<module>\u001b[0m:\u001b[36m13\u001b[0m - \u001b[1mCreating events collection\u001b[0m\n",
      "\u001b[32m2024-11-21 17:56:41.554\u001b[0m | \u001b[1mINFO    \u001b[0m | \u001b[36m__main__\u001b[0m:\u001b[36m<module>\u001b[0m:\u001b[36m29\u001b[0m - \u001b[1mCreating sessions collection\u001b[0m\n",
      "\u001b[32m2024-11-21 17:56:42.808\u001b[0m | \u001b[1mINFO    \u001b[0m | \u001b[36m__main__\u001b[0m:\u001b[36m<module>\u001b[0m:\u001b[36m34\u001b[0m - \u001b[1mCreating indexes on events collection\u001b[0m\n",
      "\u001b[32m2024-11-21 17:56:44.988\u001b[0m | \u001b[1mINFO    \u001b[0m | \u001b[36m__main__\u001b[0m:\u001b[36m<module>\u001b[0m:\u001b[36m37\u001b[0m - \u001b[1mCreating indexes on sessions collection\u001b[0m\n",
      "\u001b[32m2024-11-21 17:56:45.175\u001b[0m | \u001b[1mINFO    \u001b[0m | \u001b[36m__main__\u001b[0m:\u001b[36m<module>\u001b[0m:\u001b[36m182\u001b[0m - \u001b[1mCreating flattened_tasks collection\u001b[0m\n"
     ]
    },
    {
     "data": {
      "text/plain": [
       "[]"
      ]
     },
     "execution_count": 6,
     "metadata": {},
     "output_type": "execute_result"
    }
   ],
   "source": [
    "\n",
    "# Create a new collection with only the events of project\n",
    "command = [\n",
    "    {\n",
    "        \"$match\": {\n",
    "            \"project_id\": project_id\n",
    "    },\n",
    "    },\n",
    "    {\n",
    "        \"$out\": f\"events_{project_id}\"\n",
    "    }\n",
    "]\n",
    "\n",
    "logger.info(\"Creating events collection\")\n",
    "await mongo_db[\"events\"].aggregate(command).to_list(None)\n",
    "\n",
    "# Same with sessions\n",
    "\n",
    "command = [\n",
    "    {\n",
    "        \"$match\": {\n",
    "            \"project_id\": project_id\n",
    "        },\n",
    "    },\n",
    "    {\n",
    "        \"$out\": f\"sessions_{project_id}\"\n",
    "    }\n",
    "]\n",
    "\n",
    "logger.info(\"Creating sessions collection\")\n",
    "await mongo_db[\"sessions\"].aggregate(command).to_list(None)\n",
    "\n",
    "# Create indexes on the new collections: task_id\n",
    "\n",
    "logger.info(\"Creating indexes on events collection\")\n",
    "await mongo_db[f\"events_{project_id}\"].create_index(\"task_id\", unique=False, background=False)\n",
    "\n",
    "logger.info(\"Creating indexes on sessions collection\")\n",
    "await mongo_db[f\"sessions_{project_id}\"].create_index(\"task_id\",unique=False, background=False)\n",
    "\n",
    "\n",
    "# Run the command\n",
    "command = [\n",
    "  {\n",
    "    \"$match\": {\n",
    "      \"project_id\": project_id,\n",
    "    },\n",
    "  },\n",
    "  { \"$sort\": { \"created_at\": 1 } },\n",
    "  {\n",
    "    \"$lookup\": {\n",
    "      \"from\": f\"sessions_{project_id}\",\n",
    "      \"localField\": \"id\",\n",
    "      \"foreignField\": \"task_id\",\n",
    "      \"as\": \"sessions\",\n",
    "    },\n",
    "  },\n",
    "  {\n",
    "    \"$unwind\": {\n",
    "      \"path\": \"$sessions\",\n",
    "      \"preserveNullAndEmptyArrays\": True,\n",
    "    },\n",
    "  },\n",
    "  {\n",
    "    \"$lookup\": {\n",
    "      \"from\": f\"events_{project_id}\",\n",
    "      \"localField\": \"id\",\n",
    "      \"foreignField\": \"task_id\",\n",
    "      \"as\": \"events\",\n",
    "    },\n",
    "  },\n",
    "  {\n",
    "    \"$addFields\": {\n",
    "      \"events\": {\n",
    "        \"$filter\": {\n",
    "          \"input\": \"$events\",\n",
    "          \"as\": \"event\",\n",
    "          \"cond\": {\n",
    "            \"$and\": [\n",
    "              { \"$ne\": [\"$$event.removed\", True] },\n",
    "              {\n",
    "                \"$or\": [\n",
    "                  {\n",
    "                    \"$and\": [\n",
    "                      {\n",
    "                        \"$eq\": [\n",
    "                          \"$$event.event_definition.is_last_task\",\n",
    "                          True,\n",
    "                        ],\n",
    "                      },\n",
    "                      {\n",
    "                        \"$eq\": [\n",
    "                          \"$is_last_task\",\n",
    "                          True,\n",
    "                        ],\n",
    "                      },\n",
    "                    ],\n",
    "                  },\n",
    "                  {\n",
    "                    \"$not\": [\n",
    "                      \"$$event.event_definition.is_last_task\",\n",
    "                    ],\n",
    "                  },\n",
    "                ],\n",
    "              },\n",
    "            ],\n",
    "          },\n",
    "        },\n",
    "      },\n",
    "    },\n",
    "  },\n",
    "  {\n",
    "    \"$set\": {\n",
    "      \"events\": {\n",
    "        \"$reduce\": {\n",
    "          \"input\": \"$events\",\n",
    "          \"initialValue\": [],\n",
    "          \"in\": {\n",
    "            \"$concatArrays\": [\n",
    "              \"$$value\",\n",
    "              {\n",
    "                \"$cond\": [\n",
    "                  {\n",
    "                    \"$in\": [\n",
    "                      \"$$this.event_definition.id\",\n",
    "                      \"$$value.event_definition.id\",\n",
    "                    ],\n",
    "                  },\n",
    "                  [],\n",
    "                  [\"$$this\"],\n",
    "                ],\n",
    "              },\n",
    "            ],\n",
    "          },\n",
    "        },\n",
    "      },\n",
    "    },\n",
    "  },\n",
    "  {\n",
    "    \"$unwind\": {\n",
    "      \"path\": \"$events\",\n",
    "      \"preserveNullAndEmptyArrays\": True,\n",
    "    },\n",
    "  },\n",
    "  {\n",
    "    \"$project\": {\n",
    "        \"_id\": 0,\n",
    "      \"task_id\": \"$id\",\n",
    "      \"task_input\": \"$input\",\n",
    "      \"task_output\": \"$output\",\n",
    "      \"task_metadata\": \"$metadata\",\n",
    "      \"task_eval\": \"$flag\",\n",
    "      \"task_eval_source\": \"$last_eval.source\",\n",
    "      \"task_eval_at\": \"$last_eval.created_at\",\n",
    "      \"task_created_at\": \"$created_at\",\n",
    "      \"session_id\": \"$session_id\",\n",
    "      \"task_position\": \"$task_position\",\n",
    "      \"session_length\": \"$sessions.session_length\",\n",
    "      \"event_name\": \"$events.event_name\",\n",
    "      \"event_created_at\": \"$events.created_at\",\n",
    "      \"event_confirmed\": \"$events.confirmed\",\n",
    "      \"event_score_range_value\":\n",
    "        \"$events.score_range.value\",\n",
    "      \"event_score_range_min\":\n",
    "        \"$events.score_range.min\",\n",
    "      \"event_score_range_max\":\n",
    "        \"$events.score_range.max\",\n",
    "      \"event_score_range_score_type\":\n",
    "        \"$events.score_range.score_type\",\n",
    "      \"event_score_range_label\":\n",
    "        \"$events.score_range.label\",\n",
    "      \"event_source\": \"$events.source\",\n",
    "      \"event_categories\":\n",
    "        \"$events.event_definition.score_range_settings.categories\",\n",
    "    },\n",
    "  },\n",
    "  # Merge into a new collection\n",
    "    {\n",
    "        \"$out\": f\"flattened_tasks_{project_id}\"\n",
    "    },\n",
    "]\n",
    "\n",
    "logger.info(\"Creating flattened_tasks collection\")\n",
    "await mongo_db[\"tasks\"].aggregate(command).to_list(None)"
   ]
  },
  {
   "cell_type": "code",
   "execution_count": null,
   "metadata": {},
   "outputs": [
    {
     "name": "stderr",
     "output_type": "stream",
     "text": [
      "\u001b[32m2024-11-21 17:59:16.623\u001b[0m | \u001b[1mINFO    \u001b[0m | \u001b[36mapp.core.config\u001b[0m:\u001b[36m<module>\u001b[0m:\u001b[36m17\u001b[0m - \u001b[1mLoading environment variables from .env file\u001b[0m\n",
      "\u001b[32m2024-11-21 17:59:16.624\u001b[0m | \u001b[1mINFO    \u001b[0m | \u001b[36mapp.core.config\u001b[0m:\u001b[36m<module>\u001b[0m:\u001b[36m23\u001b[0m - \u001b[1mENVIRONMENT: production\u001b[0m\n",
      "\u001b[32m2024-11-21 17:59:16.624\u001b[0m | \u001b[31m\u001b[1mERROR   \u001b[0m | \u001b[36mapp.core.config\u001b[0m:\u001b[36m<module>\u001b[0m:\u001b[36m75\u001b[0m - \u001b[31m\u001b[1mPHOSPHO_AI_HUB_URL is missing from the environment variables\u001b[0m\n",
      "\u001b[32m2024-11-21 17:59:16.624\u001b[0m | \u001b[33m\u001b[1mWARNING \u001b[0m | \u001b[36mapp.core.config\u001b[0m:\u001b[36m<module>\u001b[0m:\u001b[36m165\u001b[0m - \u001b[33m\u001b[1mANYSCALE_API_KEY is missing from the environment variables\u001b[0m\n",
      "\u001b[32m2024-11-21 17:59:16.677\u001b[0m | \u001b[33m\u001b[1mWARNING \u001b[0m | \u001b[36mapp.core.config\u001b[0m:\u001b[36m<module>\u001b[0m:\u001b[36m201\u001b[0m - \u001b[33m\u001b[1mTEMPORAL_MTLS_TLS_CERT_BASE64 or TEMPORAL_MTLS_TLS_KEY_BASE64 is missing from the environment variables\u001b[0m\n",
      "\u001b[32m2024-11-21 17:59:16.677\u001b[0m | \u001b[33m\u001b[1mWARNING \u001b[0m | \u001b[36mapp.core.config\u001b[0m:\u001b[36m<module>\u001b[0m:\u001b[36m209\u001b[0m - \u001b[33m\u001b[1mAPI_TRIGGER_SECRET is missing from the environment variables\u001b[0m\n",
      "\u001b[32m2024-11-21 17:59:16.678\u001b[0m | \u001b[33m\u001b[1mWARNING \u001b[0m | \u001b[36mapp.core.config\u001b[0m:\u001b[36m<module>\u001b[0m:\u001b[36m214\u001b[0m - \u001b[33m\u001b[1mTAK_SEARCH_URL is missing from the environment variables\u001b[0m\n",
      "\u001b[32m2024-11-21 17:59:16.678\u001b[0m | \u001b[33m\u001b[1mWARNING \u001b[0m | \u001b[36mapp.core.config\u001b[0m:\u001b[36m<module>\u001b[0m:\u001b[36m217\u001b[0m - \u001b[33m\u001b[1mTAK_APP_API_KEY is missing from the environment variables\u001b[0m\n",
      "\u001b[32m2024-11-21 17:59:18.398\u001b[0m | \u001b[31m\u001b[1mERROR   \u001b[0m | \u001b[36mapp.services.integrations.argilla\u001b[0m:\u001b[36m<module>\u001b[0m:\u001b[36m33\u001b[0m - \u001b[31m\u001b[1mYour Api endpoint at http://localhost:6900 is not available or not responding: [Errno 61] Connection refused\u001b[0m\n"
     ]
    }
   ],
   "source": [
    "from app.services.integrations.postgresql import PostgresqlIntegration\n",
    "\n",
    "postgresql = PostgresqlIntegration(\n",
    "    org_id=...,\n",
    "    project_id=project_id,\n",
    "    project_name=...,\n",
    "    org_name=...,\n",
    ")\n"
   ]
  },
  {
   "cell_type": "code",
   "execution_count": 5,
   "metadata": {},
   "outputs": [
    {
     "name": "stderr",
     "output_type": "stream",
     "text": [
      "\u001b[32m2024-11-21 18:03:54.472\u001b[0m | \u001b[1mINFO    \u001b[0m | \u001b[36mapp.services.integrations.postgresql\u001b[0m:\u001b[36mload_config\u001b[0m:\u001b[36m94\u001b[0m - \u001b[1mCredentials already loaded for a5724a02-a243-4025-9b34-080f40818a31\u001b[0m\n",
      "\u001b[32m2024-11-21 18:03:54.474\u001b[0m | \u001b[1mINFO    \u001b[0m | \u001b[36mapp.services.integrations.postgresql\u001b[0m:\u001b[36mpush\u001b[0m:\u001b[36m398\u001b[0m - \u001b[1mStarting export of project 9645789f8b98419599ea63b1f2d8bcb8 to dedicated Postgres ep-misty-sky-a2ohgefo.eu-central-1.aws.neon.tech:michelin\u001b[0m\n",
      "\u001b[32m2024-11-21 18:03:54.474\u001b[0m | \u001b[1mINFO    \u001b[0m | \u001b[36mapp.services.integrations.postgresql\u001b[0m:\u001b[36mpush\u001b[0m:\u001b[36m412\u001b[0m - \u001b[1mExporting all tasks\u001b[0m\n",
      "\u001b[32m2024-11-21 18:03:54.475\u001b[0m | \u001b[1mINFO    \u001b[0m | \u001b[36mapp.services.integrations.postgresql\u001b[0m:\u001b[36mpush\u001b[0m:\u001b[36m427\u001b[0m - \u001b[1mFetching the existing flattened_tasks_9645789f8b98419599ea63b1f2d8bcb8 from Mongo\u001b[0m\n",
      "\u001b[32m2024-11-21 18:03:54.704\u001b[0m | \u001b[1mINFO    \u001b[0m | \u001b[36mapp.services.integrations.postgresql\u001b[0m:\u001b[36mpush\u001b[0m:\u001b[36m441\u001b[0m - \u001b[1mTotal number of tasks to export: 362164. Batch size: 512\u001b[0m\n",
      "\u001b[32m2024-11-21 18:03:54.704\u001b[0m | \u001b[1mINFO    \u001b[0m | \u001b[36mapp.services.integrations.postgresql\u001b[0m:\u001b[36mtable_exists\u001b[0m:\u001b[36m360\u001b[0m - \u001b[1mChecking if table exists\u001b[0m\n",
      "\u001b[32m2024-11-21 18:03:55.033\u001b[0m | \u001b[1mINFO    \u001b[0m | \u001b[36mapp.services.integrations.postgresql\u001b[0m:\u001b[36mcreate_table\u001b[0m:\u001b[36m265\u001b[0m - \u001b[1mCreating table for project 9645789f8b98419599ea63b1f2d8bcb8 AI_BOT_B2C_PROD: michelin.aibotb2cprod\u001b[0m\n",
      "\u001b[32m2024-11-21 18:04:07.412\u001b[0m | \u001b[34m\u001b[1mDEBUG   \u001b[0m | \u001b[36mapp.services.integrations.postgresql\u001b[0m:\u001b[36mpush\u001b[0m:\u001b[36m453\u001b[0m - \u001b[34m\u001b[1mConnected to Postgres ep-misty-sky-a2ohgefo.eu-central-1.aws.neon.tech:michelin\u001b[0m\n",
      "100%|██████████| 708/708 [03:15<00:00,  3.62it/s]\n",
      "\u001b[32m2024-11-21 18:07:22.758\u001b[0m | \u001b[1mINFO    \u001b[0m | \u001b[36mapp.services.integrations.postgresql\u001b[0m:\u001b[36mpush\u001b[0m:\u001b[36m544\u001b[0m - \u001b[1mExport finished\u001b[0m\n"
     ]
    },
    {
     "data": {
      "text/plain": [
       "'success'"
      ]
     },
     "execution_count": 5,
     "metadata": {},
     "output_type": "execute_result"
    }
   ],
   "source": [
    "await postgresql.push(batch_size=512, only_new=False, fetch_from_flattened_tasks=True)"
   ]
  }
 ],
 "metadata": {
  "kernelspec": {
   "display_name": "phospho-env-min",
   "language": "python",
   "name": "python3"
  },
  "language_info": {
   "codemirror_mode": {
    "name": "ipython",
    "version": 3
   },
   "file_extension": ".py",
   "mimetype": "text/x-python",
   "name": "python",
   "nbconvert_exporter": "python",
   "pygments_lexer": "ipython3",
   "version": "3.11.7"
  }
 },
 "nbformat": 4,
 "nbformat_minor": 2
}
