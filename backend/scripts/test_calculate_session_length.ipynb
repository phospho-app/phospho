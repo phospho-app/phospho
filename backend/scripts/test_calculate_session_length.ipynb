import unittest
from motor.motor_asyncio import AsyncIOMotorClient

class TestDatabaseConnection(unittest.TestCase):
    def test_database_connection(self):
        try:
            # Establish a connection with the MongoDB database
            mongo_db = AsyncIOMotorClient(
                MONGO_URL,
                uuidRepresentation="standard",
            )
            # Check if the connection is successful
            self.assertIsNotNone(mongo_db)
        except Exception as e:
            self.fail(f"Failed to connect to the database: {str(e)}")

if __name__ == '__main__':
    unittest.main()