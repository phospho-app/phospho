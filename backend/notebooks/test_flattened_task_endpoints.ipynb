{
 "cells": [
  {
   "cell_type": "code",
   "execution_count": null,
   "metadata": {},
   "outputs": [],
   "source": [
    "import requests\n",
    "from dotenv import load_dotenv\n",
    "import os\n",
    "from app.api.v2.models.projects import FlattenedTasksRequest\n",
    "import pandas as pd\n",
    "import json\n",
    "\n",
    "load_dotenv()\n",
    "assert os.getenv('PHOSPHO_API_KEY') is not None\n",
    "PHOSPHO_API_KEY = os.getenv('PHOSPHO_API_KEY')\n",
    "\n"
   ]
  },
  {
   "cell_type": "code",
   "execution_count": null,
   "metadata": {},
   "outputs": [],
   "source": [
    "flattened_tasks_request = {\n",
    "    \"limit\": 1000,\n",
    "    \"with_events\": True,\n",
    "    \"with_sessions\": True,\n",
    "    \"with_removed_events\": True,\n",
    "}"
   ]
  },
  {
   "cell_type": "code",
   "execution_count": null,
   "metadata": {},
   "outputs": [],
   "source": [
    "model = requests.post(\n",
    "    \"http://127.0.0.1:8000/v2/projects/e2448b2dfbc247ee92b612952f9fad34/tasks/flat\",\n",
    "    data=json.dumps(flattened_tasks_request),\n",
    "    headers={\"Authorization\": \"Bearer \" + PHOSPHO_API_KEY},\n",
    ")"
   ]
  },
  {
   "cell_type": "code",
   "execution_count": null,
   "metadata": {},
   "outputs": [],
   "source": [
    "# I want to transform model into a pd.DataFrame\n",
    "\n",
    "# row are keys of model, columns are keys of model[key]\n",
    "\n",
    "df = pd.DataFrame(model.json()[\"flattened_tasks\"])\n",
    "\n",
    "df[df[\"task_input\"] == \"Que peux tu faire ?\"]\n",
    "# df[df[\"event_removed\"] == True] "
   ]
  },
  {
   "cell_type": "code",
   "execution_count": null,
   "metadata": {},
   "outputs": [],
   "source": [
    "model.json()"
   ]
  },
  {
   "cell_type": "code",
   "execution_count": null,
   "metadata": {},
   "outputs": [],
   "source": []
  }
 ],
 "metadata": {
  "kernelspec": {
   "display_name": ".venv",
   "language": "python",
   "name": "python3"
  },
  "language_info": {
   "codemirror_mode": {
    "name": "ipython",
    "version": 3
   },
   "file_extension": ".py",
   "mimetype": "text/x-python",
   "name": "python",
   "nbconvert_exporter": "python",
   "pygments_lexer": "ipython3",
   "version": "3.11.9"
  }
 },
 "nbformat": 4,
 "nbformat_minor": 2
}
