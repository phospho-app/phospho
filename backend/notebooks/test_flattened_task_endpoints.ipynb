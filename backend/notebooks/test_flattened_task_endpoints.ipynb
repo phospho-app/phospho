{
 "cells": [
  {
   "cell_type": "code",
   "execution_count": null,
   "metadata": {},
   "outputs": [],
   "source": [
    "import requests\n",
    "from dotenv import load_dotenv\n",
    "import os\n",
    "from app.api.v2.models.projects import FlattenedTasksRequest\n",
    "\n",
    "load_dotenv()\n",
    "assert os.getenv('PHOSPHO_API_KEY') is not None\n",
    "PHOSPHO_API_KEY = os.getenv('PHOSPHO_API_KEY')\n",
    "\n"
   ]
  },
  {
   "cell_type": "code",
   "execution_count": null,
   "metadata": {},
   "outputs": [],
   "source": [
    "jsn = {\"flattened_task\": {\"limit\": 100, \"with_events\": True, \"with_sessions\": True}}"
   ]
  },
  {
   "cell_type": "code",
   "execution_count": null,
   "metadata": {},
   "outputs": [],
   "source": [
    "model = requests.post(\n",
    "    \"http://127.0.0.1:8000/v2/projects/e2448b2dfbc247ee92b612952f9fad34/tasks/flat\",\n",
    "    json=jsn,\n",
    "    headers={\"Authorization\": \"Bearer \" + PHOSPHO_API_KEY},\n",
    ")"
   ]
  },
  {
   "cell_type": "code",
   "execution_count": null,
   "metadata": {},
   "outputs": [],
   "source": [
    "model.json()"
   ]
  },
  {
   "cell_type": "code",
   "execution_count": null,
   "metadata": {},
   "outputs": [],
   "source": []
  }
 ],
 "metadata": {
  "kernelspec": {
   "display_name": ".venv",
   "language": "python",
   "name": "python3"
  },
  "language_info": {
   "codemirror_mode": {
    "name": "ipython",
    "version": 3
   },
   "file_extension": ".py",
   "mimetype": "text/x-python",
   "name": "python",
   "nbconvert_exporter": "python",
   "pygments_lexer": "ipython3",
   "version": "3.11.9"
  }
 },
 "nbformat": 4,
 "nbformat_minor": 2
}
