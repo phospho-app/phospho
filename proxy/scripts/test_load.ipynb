{
 "cells": [
  {
   "cell_type": "code",
   "execution_count": 1,
   "metadata": {},
   "outputs": [
    {
     "name": "stderr",
     "output_type": "stream",
     "text": [
      "No job_config provided. Running with empty config\n"
     ]
    },
    {
     "name": "stdout",
     "output_type": "stream",
     "text": [
      "Calling: https://phospho-prox...\n"
     ]
    },
    {
     "name": "stderr",
     "output_type": "stream",
     "text": [
      "100%|██████████| 20000/20000 [01:27<00:00, 229.28it/s]\n"
     ]
    }
   ],
   "source": [
    "import phospho\n",
    "import openai\n",
    "\n",
    "from dotenv import load_dotenv\n",
    "\n",
    "load_dotenv()\n",
    "\n",
    "openai_client = openai.AsyncOpenAI()\n",
    "\n",
    "\n",
    "async def test_call(message: phospho.lab.Message):\n",
    "    response = await openai_client.chat.completions.create(\n",
    "        messages=[{\"role\": \"system\", \"content\": f\"Say hello to {message.content}\"}],\n",
    "        model=\"gpt-3.5-turbo\",\n",
    "        max_tokens=1,\n",
    "        # timeout=1,\n",
    "    )\n",
    "    return response\n",
    "\n",
    "\n",
    "print(f\"Calling: {str(openai_client.base_url)[:20]}...\")\n",
    "\n",
    "workload = phospho.lab.Workload(jobs=[test_call])\n",
    "messages = [\n",
    "    phospho.lab.Message(content=phospho.utils.generate_uuid()) for i in range(20_000)\n",
    "]\n",
    "results = await workload.async_run(\n",
    "    messages=messages,\n",
    "    max_parallelism=1000,\n",
    ")"
   ]
  },
  {
   "cell_type": "code",
   "execution_count": 2,
   "metadata": {},
   "outputs": [
    {
     "data": {
      "text/plain": [
       "20000"
      ]
     },
     "execution_count": 2,
     "metadata": {},
     "output_type": "execute_result"
    }
   ],
   "source": [
    "len(results)"
   ]
  }
 ],
 "metadata": {
  "kernelspec": {
   "display_name": "phospho-env-min",
   "language": "python",
   "name": "python3"
  },
  "language_info": {
   "codemirror_mode": {
    "name": "ipython",
    "version": 3
   },
   "file_extension": ".py",
   "mimetype": "text/x-python",
   "name": "python",
   "nbconvert_exporter": "python",
   "pygments_lexer": "ipython3",
   "version": "3.11.7"
  }
 },
 "nbformat": 4,
 "nbformat_minor": 2
}
